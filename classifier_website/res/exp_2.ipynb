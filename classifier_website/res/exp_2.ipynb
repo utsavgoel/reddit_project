{
 "cells": [
  {
   "cell_type": "code",
   "execution_count": 13,
   "metadata": {},
   "outputs": [],
   "source": [
    "# pip install numpy scikit-learn pandas\n",
    "import requests\n",
    "import pandas as pd\n",
    "import datetime as dt\n",
    "import numpy\n",
    "from sklearn.feature_extraction.text import CountVectorizer\n",
    "from sklearn.feature_extraction.text import TfidfTransformer\n",
    "from sklearn.naive_bayes import MultinomialNB\n",
    "from sklearn.pipeline import Pipeline\n",
    "from sklearn.linear_model import SGDClassifier\n",
    "from sklearn.model_selection import train_test_split\n",
    "from sklearn.model_selection import GridSearchCV"
   ]
  },
  {
   "cell_type": "code",
   "execution_count": 20,
   "metadata": {},
   "outputs": [
    {
     "name": "stdout",
     "output_type": "stream",
     "text": [
      "(19777, 8)\n"
     ]
    }
   ],
   "source": [
    "data = pd.read_csv(\"scraped_reddit.csv\")\n",
    "\n",
    "# Dropping all rows having atleast one NA entry\n",
    "data= data[:20000]\n",
    "data = data.dropna()\n",
    "print(data.shape)\n",
    "X = data[\"title\"]\n",
    "y = data[\"flair\"]\n",
    "\n",
    "#Split the data\n",
    "X_train, X_test, y_train, y_test = train_test_split(X, y, test_size=0.2, random_state=42)"
   ]
  },
  {
   "cell_type": "code",
   "execution_count": 21,
   "metadata": {},
   "outputs": [
    {
     "name": "stdout",
     "output_type": "stream",
     "text": [
      "0.5088473205257836\n"
     ]
    }
   ],
   "source": [
    "# Using Simple Naive Bayes to train the model\n",
    "text_clf = Pipeline([('vect', CountVectorizer(token_pattern=r'\\b[^\\d\\W]+\\b')),                    \n",
    "                    ('clf', MultinomialNB()),\n",
    "])\n",
    "text_clf = text_clf.fit(X_train.values.astype('U'), y_train.values.astype('U'))\n",
    "\n",
    "predicted = text_clf.predict(X_test.values.astype('U'))\n",
    "print(numpy.mean(predicted == y_test.values.astype('U')))"
   ]
  },
  {
   "cell_type": "code",
   "execution_count": 22,
   "metadata": {},
   "outputs": [
    {
     "name": "stdout",
     "output_type": "stream",
     "text": [
      "0.5245197168857432\n"
     ]
    }
   ],
   "source": [
    "# Using linear SVM with SGD training\n",
    "\n",
    "text_clf_svm = Pipeline([('vect', CountVectorizer(token_pattern=r'\\b[^\\d\\W]+\\b')),\n",
    "                    ('clf-svm', SGDClassifier(loss='hinge', penalty='l2',\n",
    "                        alpha=1e-3, random_state=42)),\n",
    "])\n",
    "text_clf_svm = text_clf_svm.fit(X_train.values.astype('U'), y_train.values.astype('U'))\n",
    "\n",
    "predicted = text_clf_svm.predict(X_test.values.astype('U'))\n",
    "print(numpy.mean(predicted == y_test.values.astype('U')))"
   ]
  },
  {
   "cell_type": "code",
   "execution_count": 23,
   "metadata": {},
   "outputs": [
    {
     "name": "stderr",
     "output_type": "stream",
     "text": [
      "/opt/conda/lib/python3.7/site-packages/sklearn/model_selection/_split.py:667: UserWarning: The least populated class in y has only 1 members, which is less than n_splits=5.\n",
      "  % (min_groups, self.n_splits)), UserWarning)\n"
     ]
    },
    {
     "name": "stdout",
     "output_type": "stream",
     "text": [
      "0.5189935750335029\n"
     ]
    }
   ],
   "source": [
    "# Used GridSearchCV for optimizing the parameters\n",
    "\n",
    "X = X_train.values.astype('U')\n",
    "y = y_train.values.astype('U')\n",
    " \n",
    "# use a full grid over all parameters\n",
    "param_grid = {\"clf-svm__max_iter\":[1200000],\n",
    "              \"clf-svm__alpha\": [0.0001, 0.001, 0.01, 0.1, 1, 10, 100],\n",
    "              \"clf-svm__penalty\": [\"none\", \"l1\", \"l2\"]}\n",
    "\n",
    "# run grid search\n",
    "grid_search = GridSearchCV(text_clf_svm, param_grid=param_grid)\n",
    "grid_search.fit(X, y)\n",
    "\n",
    "print(grid_search.best_score_)\n",
    " "
   ]
  },
  {
   "cell_type": "code",
   "execution_count": null,
   "metadata": {},
   "outputs": [],
   "source": []
  }
 ],
 "metadata": {
  "kernelspec": {
   "display_name": "Python 3",
   "language": "python",
   "name": "python3"
  },
  "language_info": {
   "codemirror_mode": {
    "name": "ipython",
    "version": 3
   },
   "file_extension": ".py",
   "mimetype": "text/x-python",
   "name": "python",
   "nbconvert_exporter": "python",
   "pygments_lexer": "ipython3",
   "version": "3.7.3"
  }
 },
 "nbformat": 4,
 "nbformat_minor": 4
}
