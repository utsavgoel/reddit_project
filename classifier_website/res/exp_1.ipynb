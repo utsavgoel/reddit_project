{
 "cells": [
  {
   "cell_type": "code",
   "execution_count": 55,
   "metadata": {},
   "outputs": [],
   "source": [
    "# Tried Step 1 with this file earlier but got only 1000 posts, so moved to another API\n",
    "\n",
    "# pip install praw scikit-learn pandas\n",
    "import requests\n",
    "import praw\n",
    "import json\n",
    "import pandas as pd\n",
    "import datetime as dt\n",
    "from sklearn.feature_extraction.text import CountVectorizer\n",
    "from sklearn.feature_extraction.text import TfidfTransformer\n",
    "from sklearn.naive_bayes import MultinomialNB\n",
    "from sklearn.pipeline import Pipeline\n",
    "from sklearn.linear_model import SGDClassifier"
   ]
  },
  {
   "cell_type": "code",
   "execution_count": 56,
   "metadata": {},
   "outputs": [],
   "source": [
    "client_auth = requests.auth.HTTPBasicAuth('do8wnlq4TqLxbw', 'BTs2v7p53_Gbke6HeBQ6ysaDOTg')\n",
    "\n",
    "post_data = {\"grant_type\": \"password\", \"username\": \"ndjad\", \"password\": \"fjanfj@\"}"
   ]
  },
  {
   "cell_type": "code",
   "execution_count": 57,
   "metadata": {},
   "outputs": [],
   "source": [
    "headers = {\"User-Agent\": \"utsavgoel\"}\n",
    "response = requests.post(\"https://www.reddit.com/api/v1/access_token\", auth=client_auth, data=post_data, headers=headers)\n",
    "response = response.json()"
   ]
  },
  {
   "cell_type": "code",
   "execution_count": 58,
   "metadata": {},
   "outputs": [],
   "source": [
    "headers = {\"Authorization\": \"bearer \" + response['access_token'], \"User-Agent\": \"utsavgoel\"}\n",
    "response = requests.get(\"https://oauth.reddit.com/api/v1/me\", headers=headers)"
   ]
  },
  {
   "cell_type": "code",
   "execution_count": 59,
   "metadata": {},
   "outputs": [],
   "source": [
    "reddit = praw.Reddit(client_id='do8wnlq4TqLxbw',\n",
    "                     client_secret='BTs2v7p53_Gbke6HeBQ6ysaDOTg',\n",
    "                     user_agent='utsavgoel',\n",
    "                     username='utsavgoel',\n",
    "                     password='utsav11@')"
   ]
  },
  {
   "cell_type": "code",
   "execution_count": 117,
   "metadata": {},
   "outputs": [],
   "source": [
    "topics_dict = { \"title\":[], \n",
    "                \"score\":[], \n",
    "                \"id\":[], \"url\":[],  \n",
    "                \"comms_num\": [], \n",
    "                \"created\": [], \n",
    "                \"body\":[],\n",
    "                \"flair\":[]}\n",
    "\n",
    "for submission in reddit.subreddit('india').hot(limit=1000):\n",
    "    if submission.link_flair_text:\n",
    "        #print(submission.link_flair_text)\n",
    "        topics_dict[\"title\"].append(submission.title)\n",
    "        topics_dict[\"score\"].append(submission.score)\n",
    "        topics_dict[\"id\"].append(submission.id)\n",
    "        topics_dict[\"url\"].append(submission.url)\n",
    "        topics_dict[\"comms_num\"].append(submission.num_comments)\n",
    "        topics_dict[\"created\"].append(submission.created)\n",
    "        topics_dict[\"body\"].append(submission.selftext)\n",
    "        topics_dict[\"flair\"].append(submission.link_flair_text)\n",
    "    \n",
    "train_data = pd.DataFrame(topics_dict)\n",
    "\n",
    "for submission in reddit.subreddit('india').top(limit=1000):\n",
    "    if(submission.link_flair_text):\n",
    "        #print(submission.link_flair_text)\n",
    "        topics_dict[\"title\"].append(submission.title)\n",
    "        topics_dict[\"score\"].append(submission.score)\n",
    "        topics_dict[\"id\"].append(submission.id)\n",
    "        topics_dict[\"url\"].append(submission.url)\n",
    "        topics_dict[\"comms_num\"].append(submission.num_comments)\n",
    "        topics_dict[\"created\"].append(submission.created)\n",
    "        topics_dict[\"body\"].append(submission.selftext)\n",
    "        topics_dict[\"flair\"].append(submission.link_flair_text)\n",
    "    \n",
    "test_data = pd.DataFrame(topics_dict)"
   ]
  },
  {
   "cell_type": "code",
   "execution_count": 126,
   "metadata": {},
   "outputs": [],
   "source": [
    "def get_date(created):\n",
    "    return dt.datetime.fromtimestamp(int(created)).strftime('%Y-%m-%d')\n",
    "    #return dt.datetime.date(created)\n",
    "\n",
    "#convert unix time to normal date\n",
    "_timestamp = train_data[\"created\"].apply(get_date)\n",
    "train_data = train_data.assign(created = _timestamp)\n",
    "train_data.to_csv('reddit.csv', index=False) "
   ]
  },
  {
   "cell_type": "code",
   "execution_count": 127,
   "metadata": {},
   "outputs": [
    {
     "name": "stdout",
     "output_type": "stream",
     "text": [
      "Pipeline(memory=None,\n",
      "         steps=[('vect',\n",
      "                 CountVectorizer(analyzer='word', binary=False,\n",
      "                                 decode_error='strict',\n",
      "                                 dtype=<class 'numpy.int64'>, encoding='utf-8',\n",
      "                                 input='content', lowercase=True, max_df=1.0,\n",
      "                                 max_features=None, min_df=1,\n",
      "                                 ngram_range=(1, 1), preprocessor=None,\n",
      "                                 stop_words='english', strip_accents=None,\n",
      "                                 token_pattern='\\\\b[^\\\\d\\\\W]+\\\\b',\n",
      "                                 tokenizer=None, vocabulary...\n",
      "                ('clf-svm',\n",
      "                 SGDClassifier(alpha=0.001, average=False, class_weight=None,\n",
      "                               early_stopping=False, epsilon=0.1, eta0=0.0,\n",
      "                               fit_intercept=True, l1_ratio=0.15,\n",
      "                               learning_rate='optimal', loss='hinge',\n",
      "                               max_iter=1000, n_iter_no_change=5, n_jobs=None,\n",
      "                               penalty='l2', power_t=0.5, random_state=42,\n",
      "                               shuffle=True, tol=0.001, validation_fraction=0.1,\n",
      "                               verbose=0, warm_start=False))],\n",
      "         verbose=False)\n"
     ]
    }
   ],
   "source": [
    "text_clf = Pipeline([('vect', CountVectorizer(token_pattern=r'\\b[^\\d\\W]+\\b', stop_words='english')),\n",
    "                    ('tfidf', TfidfTransformer()),\n",
    "                    ('clf-svm', SGDClassifier(loss='hinge', penalty='l2',\n",
    "                        alpha=1e-3, random_state=42)),\n",
    "])\n",
    "text_clf = text_clf.fit(train_data['title'], train_data['flair'])\n",
    "print(text_clf)"
   ]
  }
 ],
 "metadata": {
  "kernelspec": {
   "display_name": "Python 3",
   "language": "python",
   "name": "python3"
  },
  "language_info": {
   "codemirror_mode": {
    "name": "ipython",
    "version": 3
   },
   "file_extension": ".py",
   "mimetype": "text/x-python",
   "name": "python",
   "nbconvert_exporter": "python",
   "pygments_lexer": "ipython3",
   "version": "3.8.1"
  }
 },
 "nbformat": 4,
 "nbformat_minor": 4
}
